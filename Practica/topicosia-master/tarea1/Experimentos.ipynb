{
 "cells": [
  {
   "cell_type": "markdown",
   "metadata": {},
   "source": [
    "# EXPERIMENTO 1"
   ]
  },
  {
   "cell_type": "markdown",
   "metadata": {},
   "source": [
    "## Datos"
   ]
  },
  {
   "cell_type": "code",
   "execution_count": 7,
   "metadata": {},
   "outputs": [],
   "source": [
    "import pandas as pd\n",
    "import numpy as np\n",
    "\n",
    "x_train = pd.read_csv('data/1_train_x.csv', header=None)\n",
    "y_train = pd.read_csv('data/1_train_y.csv', header=None)\n",
    "x_test = pd.read_csv('data/1_test_x.csv', header=None)\n",
    "y_test = pd.read_csv('data/1_test_y.csv', header=None)\n",
    "\n",
    "# Agregar columna de unos\n",
    "x_train = np.insert(x_train.values, 0, 1, axis=1) \n",
    "x_test = np.insert(x_test.values, 0, 1, axis=1)\n",
    "\n"
   ]
  },
  {
   "cell_type": "markdown",
   "metadata": {},
   "source": [
    "## Funciones"
   ]
  },
  {
   "cell_type": "code",
   "execution_count": 8,
   "metadata": {},
   "outputs": [],
   "source": [
    "def Calcular_Costo(X, Y, theta):\n",
    "    cost = np.sum((np.dot(X,theta.T)-Y)**2) / (2*len(X))\n",
    "    return cost\n",
    "\n",
    "def Gradiente_descendiente(X, Y, theta, it, lr):\n",
    "    costs = [0]*it\n",
    "    size = len(X)\n",
    "    for i in range(it):\n",
    "        h = np.dot(X,theta.T)\n",
    "        rest = h - Y\n",
    "        deriv = np.dot(X.T,rest) / size\n",
    "        theta = theta - (lr * deriv).T\n",
    "        costs[i] = Calcular_Costo(X, Y , theta)\n",
    "    return theta, costs\n",
    "\n",
    "def Ecuacion_Normal(X, Y):\n",
    "    theta = np.linalg.inv(np.dot(X.T, X))\n",
    "    theta = np.dot(theta, X.T)\n",
    "    theta = np.dot(theta, Y)\n",
    "    return theta.T\n",
    "\n",
    "def MSE(Yp,Y):\n",
    "    tam =len(Y)\n",
    "    error = np.sum((Yp - Y)**2) / tam\n",
    "    return error"
   ]
  },
  {
   "cell_type": "markdown",
   "metadata": {},
   "source": [
    "## Procedimiento"
   ]
  },
  {
   "cell_type": "code",
   "execution_count": 9,
   "metadata": {},
   "outputs": [
    {
     "name": "stdout",
     "output_type": "stream",
     "text": [
      "Thetas Ecuación Normal\n",
      "[[-0.08752625 -0.09203601 -0.36687041  0.1072892   0.64775736]]\n",
      "Minimo:  0.6846207324016144\n",
      "Learning rate:  0.01\n",
      "Iterations:  500\n",
      "          500       1000      1500      2000      2500      3000      3500\n",
      "0.01  0.684621  0.703287  0.709549  0.711014  0.711345  0.711419  0.711435\n",
      "0.05  0.711349  0.711440  0.711440  0.711440  0.711440  0.711440  0.711440\n",
      "0.10  0.711440  0.711440  0.711440  0.711440  0.711440  0.711440  0.711440\n",
      "0.20  0.711440  0.711440  0.711440  0.711440  0.711440  0.711440  0.711440\n",
      "0.30  0.711440  0.711440  0.711440  0.711440  0.711440  0.711440  0.711440\n",
      "0.40  0.711440  0.711440  0.711440  0.711440  0.711440  0.711440  0.711440\n"
     ]
    }
   ],
   "source": [
    "# Usando Ecuación Normal\n",
    "\n",
    "thetas = np.zeros(5)[np.newaxis]\n",
    "\n",
    "thetas_inicio = Ecuacion_Normal(x_train, y_train)\n",
    "error_train = MSE(np.dot(x_train, thetas_inicio.T), y_train)\n",
    "error_test = MSE(np.dot(x_test, thetas_inicio.T), y_test)\n",
    "\n",
    "print('Thetas Ecuación Normal')\n",
    "print(thetas_inicio)\n",
    "# print(error_train)\n",
    "# print(error_test)\n",
    "\n",
    "# Gradiente Descendiente\n",
    "\n",
    "learning_rate = [0.01, 0.05, 0.1, 0.2, 0.3, 0.4]\n",
    "iterations = [500, 1000, 1500, 2000, 2500, 3000, 3500]\n",
    "matriz = np.zeros((len(learning_rate), len(iterations)))\n",
    "\n",
    "x = 0\n",
    "y = 0\n",
    "for l in learning_rate:\n",
    "    y = 0\n",
    "    for i in iterations:\n",
    "        theta_actual, vac = Gradiente_descendiente(x_train, y_train, thetas, i, l)\n",
    "        matriz[x,y] = MSE(x_test.dot(theta_actual.T), y_test)\n",
    "        y += 1\n",
    "    x +=1\n",
    "\n",
    "\n",
    "df_petroleo = pd.DataFrame(data=matriz, index = learning_rate, columns=iterations)\n",
    "\n",
    "id_1, id_2 = np.where(matriz == matriz.min())  # hallar indices de elemento minimo\n",
    "print ('Minimo: ', matriz.min())\n",
    "print ('Learning rate: ', learning_rate[int(id_1)])\n",
    "print ('Iterations: ', iterations[int(id_2)])\n",
    "print (df_petroleo) \n",
    "\n"
   ]
  },
  {
   "cell_type": "markdown",
   "metadata": {},
   "source": [
    "## Graficar"
   ]
  },
  {
   "cell_type": "code",
   "execution_count": 25,
   "metadata": {},
   "outputs": [
    {
     "data": {
      "text/plain": [
       "Text(0, 0.5, 'Costos')"
      ]
     },
     "execution_count": 25,
     "metadata": {},
     "output_type": "execute_result"
    },
    {
     "data": {
      "image/png": "[encoded data removed]",
      "text/plain": [
       "<Figure size 1440x720 with 2 Axes>"
      ]
     },
     "metadata": {
      "needs_background": "light"
     },
     "output_type": "display_data"
    }
   ],
   "source": [
    "import matplotlib.pyplot as plt\n",
    "\n",
    "fig, ax = plt.subplots(1, 2, figsize=(20,10))\n",
    "\n",
    "thetas_train, costos_train = Gradiente_descendiente(x_train, y_train, thetas, iterations[0], learning_rate[0])\n",
    "thetas_train, costos_test = Gradiente_descendiente(x_test, y_test, thetas, iterations[0], learning_rate[0])\n",
    "\n",
    "ax[0].scatter(np.arange(iterations[0]), costos_train, alpha = 1, c=\"green\", s=1)\n",
    "ax[0].set_title(\"Consumo de petróleo train\")\n",
    "ax[0].set_xlabel('Iteraciones')\n",
    "ax[0].set_ylabel('Costos')\n",
    "\n",
    "ax[1].scatter(np.arange(iterations[0]), costos_test, alpha = 1, c=\"green\", s=1)\n",
    "ax[1].set_title(\"Consumo de petróleo test\")\n",
    "ax[1].set_xlabel('Iteraciones')\n",
    "ax[1].set_ylabel('Costos')"
   ]
  },
  {
   "cell_type": "code",
   "execution_count": 9,
   "metadata": {},
   "outputs": [
    {
     "name": "stdout",
     "output_type": "stream",
     "text": [
      "hola\n"
     ]
    }
   ],
   "source": [
    "print('hola')"
   ]
  },
  {
   "cell_type": "code",
   "execution_count": null,
   "metadata": {},
   "outputs": [],
   "source": []
  }
 ],
 "metadata": {
  "kernelspec": {
   "display_name": "Python 3",
   "language": "python",
   "name": "python3"
  },
  "language_info": {
   "codemirror_mode": {
    "name": "ipython",
    "version": 3
   },
   "file_extension": ".py",
   "mimetype": "text/x-python",
   "name": "python",
   "nbconvert_exporter": "python",
   "pygments_lexer": "ipython3",
   "version": "3.8.3"
  }
 },
 "nbformat": 4,
 "nbformat_minor": 2
}
